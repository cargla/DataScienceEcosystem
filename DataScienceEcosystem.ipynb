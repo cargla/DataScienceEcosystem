{
 "cells": [
  {
   "cell_type": "markdown",
   "id": "6427245c",
   "metadata": {},
   "source": [
    "# Data Science Tools and Ecosystem"
   ]
  },
  {
   "cell_type": "markdown",
   "id": "d6b90c2a",
   "metadata": {},
   "source": [
    "In this notebook, Data Science Tools and Ecosystem are summarized."
   ]
  },
  {
   "cell_type": "markdown",
   "id": "77e3f854",
   "metadata": {},
   "source": [
    "## *Objectifs:*\n",
    "+ Discover Libraries, Datasets, Models and APIs\n",
    "+ Work on Jupyther Notebooks and JupyterLab\n",
    "+ Getting started with RStudio\n",
    "+ Introduction of GitHub\n",
    "## Author\n",
    "Carla "
   ]
  },
  {
   "cell_type": "markdown",
   "id": "36289c32",
   "metadata": {},
   "source": [
    "## Some of the popular languages that Data Scientists use are:\n",
    "1. R\n",
    "2. Python\n",
    "3. SQL\n",
    "4. Scala\n",
    "5. Java\n",
    "6. C++\n",
    "7. Julia ..."
   ]
  },
  {
   "cell_type": "markdown",
   "id": "bb2d076a",
   "metadata": {},
   "source": [
    "## Some of the commonly used libraries used by Data Scientists include: <br>\n",
    "1. Pandas\n",
    "2. Scipy\n",
    "3. Numpy\n",
    "4. Scipy\n"
   ]
  },
  {
   "cell_type": "markdown",
   "id": "a4a22a66",
   "metadata": {},
   "source": [
    "| Data Science Tools |  \n",
    "| ------ | \n",
    "| RStudio |\n",
    "| Apache Spark |\n",
    "| TensorFlow |\n",
    "### Below are a few examples of evaluating arithmetic expressions in Python"
   ]
  },
  {
   "cell_type": "code",
   "execution_count": 3,
   "id": "3dcefd3f",
   "metadata": {},
   "outputs": [
    {
     "data": {
      "text/plain": [
       "17"
      ]
     },
     "execution_count": 3,
     "metadata": {},
     "output_type": "execute_result"
    }
   ],
   "source": [
    "(3*4)+5\n",
    "#This a simple arithmetic expression to mutiply then add integers."
   ]
  },
  {
   "cell_type": "code",
   "execution_count": 6,
   "id": "551e0f2e",
   "metadata": {},
   "outputs": [
    {
     "name": "stdout",
     "output_type": "stream",
     "text": [
      "0.3\n"
     ]
    }
   ],
   "source": [
    "minute=200\n",
    "hours=60/minute #This will convert 200 minutes to hours by diving by 60\n",
    "print(hours)"
   ]
  }
 ],
 "metadata": {
  "kernelspec": {
   "display_name": "Python 3 (ipykernel)",
   "language": "python",
   "name": "python3"
  },
  "language_info": {
   "codemirror_mode": {
    "name": "ipython",
    "version": 3
   },
   "file_extension": ".py",
   "mimetype": "text/x-python",
   "name": "python",
   "nbconvert_exporter": "python",
   "pygments_lexer": "ipython3",
   "version": "3.8.16"
  }
 },
 "nbformat": 4,
 "nbformat_minor": 5
}
